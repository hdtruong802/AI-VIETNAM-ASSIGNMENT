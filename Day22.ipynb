{
  "nbformat": 4,
  "nbformat_minor": 0,
  "metadata": {
    "colab": {
      "provenance": []
    },
    "kernelspec": {
      "name": "python3",
      "display_name": "Python 3"
    },
    "language_info": {
      "name": "python"
    }
  },
  "cells": [
    {
      "cell_type": "code",
      "source": [
        "!gdown 1J1eghnm5bPJTFcBUwTDHZhOP19YGpD6D"
      ],
      "metadata": {
        "colab": {
          "base_uri": "https://localhost:8080/"
        },
        "id": "3XcLVNena0iX",
        "outputId": "e4abd8dd-0679-4af9-9b79-3d36a7aada29"
      },
      "execution_count": 1,
      "outputs": [
        {
          "output_type": "stream",
          "name": "stdout",
          "text": [
            "Downloading...\n",
            "From: https://drive.google.com/uc?id=1J1eghnm5bPJTFcBUwTDHZhOP19YGpD6D\n",
            "To: /content/used_cars.csv\n",
            "\r  0% 0.00/608k [00:00<?, ?B/s]\r100% 608k/608k [00:00<00:00, 13.2MB/s]\n"
          ]
        }
      ]
    },
    {
      "cell_type": "code",
      "source": [
        "import pandas as pd\n",
        "import matplotlib.pyplot as plt\n",
        "from sklearn.model_selection import train_test_split\n",
        "import numpy as np"
      ],
      "metadata": {
        "id": "7EMcLTBBWS4a"
      },
      "execution_count": 2,
      "outputs": []
    },
    {
      "cell_type": "code",
      "source": [
        "df = pd.read_csv('used_cars.csv')\n",
        "df.head()"
      ],
      "metadata": {
        "colab": {
          "base_uri": "https://localhost:8080/",
          "height": 293
        },
        "id": "4UREDh4rbACJ",
        "outputId": "33270f9d-5c89-4ff6-eb65-d7c2efce0868"
      },
      "execution_count": 3,
      "outputs": [
        {
          "output_type": "execute_result",
          "data": {
            "text/plain": [
              "      brand                            model  model_year      milage  \\\n",
              "0      Ford  Utility Police Interceptor Base        2013  51,000 mi.   \n",
              "1   Hyundai                     Palisade SEL        2021  34,742 mi.   \n",
              "2     Lexus                    RX 350 RX 350        2022  22,372 mi.   \n",
              "3  INFINITI                 Q50 Hybrid Sport        2015  88,900 mi.   \n",
              "4      Audi        Q3 45 S line Premium Plus        2021   9,835 mi.   \n",
              "\n",
              "       fuel_type                                             engine  \\\n",
              "0  E85 Flex Fuel  300.0HP 3.7L V6 Cylinder Engine Flex Fuel Capa...   \n",
              "1       Gasoline                               3.8L V6 24V GDI DOHC   \n",
              "2       Gasoline                                     3.5 Liter DOHC   \n",
              "3         Hybrid  354.0HP 3.5L V6 Cylinder Engine Gas/Electric H...   \n",
              "4       Gasoline                         2.0L I4 16V GDI DOHC Turbo   \n",
              "\n",
              "        transmission                 ext_col int_col  \\\n",
              "0        6-Speed A/T                   Black   Black   \n",
              "1  8-Speed Automatic         Moonlight Cloud    Gray   \n",
              "2          Automatic                    Blue   Black   \n",
              "3        7-Speed A/T                   Black   Black   \n",
              "4  8-Speed Automatic  Glacier White Metallic   Black   \n",
              "\n",
              "                                 accident clean_title    price  \n",
              "0  At least 1 accident or damage reported         Yes  $10,300  \n",
              "1  At least 1 accident or damage reported         Yes  $38,005  \n",
              "2                           None reported         NaN  $54,598  \n",
              "3                           None reported         Yes  $15,500  \n",
              "4                           None reported         NaN  $34,999  "
            ],
            "text/html": [
              "\n",
              "  <div id=\"df-a5b1224a-a59c-4996-b834-72a24dc23a67\" class=\"colab-df-container\">\n",
              "    <div>\n",
              "<style scoped>\n",
              "    .dataframe tbody tr th:only-of-type {\n",
              "        vertical-align: middle;\n",
              "    }\n",
              "\n",
              "    .dataframe tbody tr th {\n",
              "        vertical-align: top;\n",
              "    }\n",
              "\n",
              "    .dataframe thead th {\n",
              "        text-align: right;\n",
              "    }\n",
              "</style>\n",
              "<table border=\"1\" class=\"dataframe\">\n",
              "  <thead>\n",
              "    <tr style=\"text-align: right;\">\n",
              "      <th></th>\n",
              "      <th>brand</th>\n",
              "      <th>model</th>\n",
              "      <th>model_year</th>\n",
              "      <th>milage</th>\n",
              "      <th>fuel_type</th>\n",
              "      <th>engine</th>\n",
              "      <th>transmission</th>\n",
              "      <th>ext_col</th>\n",
              "      <th>int_col</th>\n",
              "      <th>accident</th>\n",
              "      <th>clean_title</th>\n",
              "      <th>price</th>\n",
              "    </tr>\n",
              "  </thead>\n",
              "  <tbody>\n",
              "    <tr>\n",
              "      <th>0</th>\n",
              "      <td>Ford</td>\n",
              "      <td>Utility Police Interceptor Base</td>\n",
              "      <td>2013</td>\n",
              "      <td>51,000 mi.</td>\n",
              "      <td>E85 Flex Fuel</td>\n",
              "      <td>300.0HP 3.7L V6 Cylinder Engine Flex Fuel Capa...</td>\n",
              "      <td>6-Speed A/T</td>\n",
              "      <td>Black</td>\n",
              "      <td>Black</td>\n",
              "      <td>At least 1 accident or damage reported</td>\n",
              "      <td>Yes</td>\n",
              "      <td>$10,300</td>\n",
              "    </tr>\n",
              "    <tr>\n",
              "      <th>1</th>\n",
              "      <td>Hyundai</td>\n",
              "      <td>Palisade SEL</td>\n",
              "      <td>2021</td>\n",
              "      <td>34,742 mi.</td>\n",
              "      <td>Gasoline</td>\n",
              "      <td>3.8L V6 24V GDI DOHC</td>\n",
              "      <td>8-Speed Automatic</td>\n",
              "      <td>Moonlight Cloud</td>\n",
              "      <td>Gray</td>\n",
              "      <td>At least 1 accident or damage reported</td>\n",
              "      <td>Yes</td>\n",
              "      <td>$38,005</td>\n",
              "    </tr>\n",
              "    <tr>\n",
              "      <th>2</th>\n",
              "      <td>Lexus</td>\n",
              "      <td>RX 350 RX 350</td>\n",
              "      <td>2022</td>\n",
              "      <td>22,372 mi.</td>\n",
              "      <td>Gasoline</td>\n",
              "      <td>3.5 Liter DOHC</td>\n",
              "      <td>Automatic</td>\n",
              "      <td>Blue</td>\n",
              "      <td>Black</td>\n",
              "      <td>None reported</td>\n",
              "      <td>NaN</td>\n",
              "      <td>$54,598</td>\n",
              "    </tr>\n",
              "    <tr>\n",
              "      <th>3</th>\n",
              "      <td>INFINITI</td>\n",
              "      <td>Q50 Hybrid Sport</td>\n",
              "      <td>2015</td>\n",
              "      <td>88,900 mi.</td>\n",
              "      <td>Hybrid</td>\n",
              "      <td>354.0HP 3.5L V6 Cylinder Engine Gas/Electric H...</td>\n",
              "      <td>7-Speed A/T</td>\n",
              "      <td>Black</td>\n",
              "      <td>Black</td>\n",
              "      <td>None reported</td>\n",
              "      <td>Yes</td>\n",
              "      <td>$15,500</td>\n",
              "    </tr>\n",
              "    <tr>\n",
              "      <th>4</th>\n",
              "      <td>Audi</td>\n",
              "      <td>Q3 45 S line Premium Plus</td>\n",
              "      <td>2021</td>\n",
              "      <td>9,835 mi.</td>\n",
              "      <td>Gasoline</td>\n",
              "      <td>2.0L I4 16V GDI DOHC Turbo</td>\n",
              "      <td>8-Speed Automatic</td>\n",
              "      <td>Glacier White Metallic</td>\n",
              "      <td>Black</td>\n",
              "      <td>None reported</td>\n",
              "      <td>NaN</td>\n",
              "      <td>$34,999</td>\n",
              "    </tr>\n",
              "  </tbody>\n",
              "</table>\n",
              "</div>\n",
              "    <div class=\"colab-df-buttons\">\n",
              "\n",
              "  <div class=\"colab-df-container\">\n",
              "    <button class=\"colab-df-convert\" onclick=\"convertToInteractive('df-a5b1224a-a59c-4996-b834-72a24dc23a67')\"\n",
              "            title=\"Convert this dataframe to an interactive table.\"\n",
              "            style=\"display:none;\">\n",
              "\n",
              "  <svg xmlns=\"http://www.w3.org/2000/svg\" height=\"24px\" viewBox=\"0 -960 960 960\">\n",
              "    <path d=\"M120-120v-720h720v720H120Zm60-500h600v-160H180v160Zm220 220h160v-160H400v160Zm0 220h160v-160H400v160ZM180-400h160v-160H180v160Zm440 0h160v-160H620v160ZM180-180h160v-160H180v160Zm440 0h160v-160H620v160Z\"/>\n",
              "  </svg>\n",
              "    </button>\n",
              "\n",
              "  <style>\n",
              "    .colab-df-container {\n",
              "      display:flex;\n",
              "      gap: 12px;\n",
              "    }\n",
              "\n",
              "    .colab-df-convert {\n",
              "      background-color: #E8F0FE;\n",
              "      border: none;\n",
              "      border-radius: 50%;\n",
              "      cursor: pointer;\n",
              "      display: none;\n",
              "      fill: #1967D2;\n",
              "      height: 32px;\n",
              "      padding: 0 0 0 0;\n",
              "      width: 32px;\n",
              "    }\n",
              "\n",
              "    .colab-df-convert:hover {\n",
              "      background-color: #E2EBFA;\n",
              "      box-shadow: 0px 1px 2px rgba(60, 64, 67, 0.3), 0px 1px 3px 1px rgba(60, 64, 67, 0.15);\n",
              "      fill: #174EA6;\n",
              "    }\n",
              "\n",
              "    .colab-df-buttons div {\n",
              "      margin-bottom: 4px;\n",
              "    }\n",
              "\n",
              "    [theme=dark] .colab-df-convert {\n",
              "      background-color: #3B4455;\n",
              "      fill: #D2E3FC;\n",
              "    }\n",
              "\n",
              "    [theme=dark] .colab-df-convert:hover {\n",
              "      background-color: #434B5C;\n",
              "      box-shadow: 0px 1px 3px 1px rgba(0, 0, 0, 0.15);\n",
              "      filter: drop-shadow(0px 1px 2px rgba(0, 0, 0, 0.3));\n",
              "      fill: #FFFFFF;\n",
              "    }\n",
              "  </style>\n",
              "\n",
              "    <script>\n",
              "      const buttonEl =\n",
              "        document.querySelector('#df-a5b1224a-a59c-4996-b834-72a24dc23a67 button.colab-df-convert');\n",
              "      buttonEl.style.display =\n",
              "        google.colab.kernel.accessAllowed ? 'block' : 'none';\n",
              "\n",
              "      async function convertToInteractive(key) {\n",
              "        const element = document.querySelector('#df-a5b1224a-a59c-4996-b834-72a24dc23a67');\n",
              "        const dataTable =\n",
              "          await google.colab.kernel.invokeFunction('convertToInteractive',\n",
              "                                                    [key], {});\n",
              "        if (!dataTable) return;\n",
              "\n",
              "        const docLinkHtml = 'Like what you see? Visit the ' +\n",
              "          '<a target=\"_blank\" href=https://colab.research.google.com/notebooks/data_table.ipynb>data table notebook</a>'\n",
              "          + ' to learn more about interactive tables.';\n",
              "        element.innerHTML = '';\n",
              "        dataTable['output_type'] = 'display_data';\n",
              "        await google.colab.output.renderOutput(dataTable, element);\n",
              "        const docLink = document.createElement('div');\n",
              "        docLink.innerHTML = docLinkHtml;\n",
              "        element.appendChild(docLink);\n",
              "      }\n",
              "    </script>\n",
              "  </div>\n",
              "\n",
              "\n",
              "<div id=\"df-caf76c93-9147-434e-bc8e-a50846688135\">\n",
              "  <button class=\"colab-df-quickchart\" onclick=\"quickchart('df-caf76c93-9147-434e-bc8e-a50846688135')\"\n",
              "            title=\"Suggest charts\"\n",
              "            style=\"display:none;\">\n",
              "\n",
              "<svg xmlns=\"http://www.w3.org/2000/svg\" height=\"24px\"viewBox=\"0 0 24 24\"\n",
              "     width=\"24px\">\n",
              "    <g>\n",
              "        <path d=\"M19 3H5c-1.1 0-2 .9-2 2v14c0 1.1.9 2 2 2h14c1.1 0 2-.9 2-2V5c0-1.1-.9-2-2-2zM9 17H7v-7h2v7zm4 0h-2V7h2v10zm4 0h-2v-4h2v4z\"/>\n",
              "    </g>\n",
              "</svg>\n",
              "  </button>\n",
              "\n",
              "<style>\n",
              "  .colab-df-quickchart {\n",
              "      --bg-color: #E8F0FE;\n",
              "      --fill-color: #1967D2;\n",
              "      --hover-bg-color: #E2EBFA;\n",
              "      --hover-fill-color: #174EA6;\n",
              "      --disabled-fill-color: #AAA;\n",
              "      --disabled-bg-color: #DDD;\n",
              "  }\n",
              "\n",
              "  [theme=dark] .colab-df-quickchart {\n",
              "      --bg-color: #3B4455;\n",
              "      --fill-color: #D2E3FC;\n",
              "      --hover-bg-color: #434B5C;\n",
              "      --hover-fill-color: #FFFFFF;\n",
              "      --disabled-bg-color: #3B4455;\n",
              "      --disabled-fill-color: #666;\n",
              "  }\n",
              "\n",
              "  .colab-df-quickchart {\n",
              "    background-color: var(--bg-color);\n",
              "    border: none;\n",
              "    border-radius: 50%;\n",
              "    cursor: pointer;\n",
              "    display: none;\n",
              "    fill: var(--fill-color);\n",
              "    height: 32px;\n",
              "    padding: 0;\n",
              "    width: 32px;\n",
              "  }\n",
              "\n",
              "  .colab-df-quickchart:hover {\n",
              "    background-color: var(--hover-bg-color);\n",
              "    box-shadow: 0 1px 2px rgba(60, 64, 67, 0.3), 0 1px 3px 1px rgba(60, 64, 67, 0.15);\n",
              "    fill: var(--button-hover-fill-color);\n",
              "  }\n",
              "\n",
              "  .colab-df-quickchart-complete:disabled,\n",
              "  .colab-df-quickchart-complete:disabled:hover {\n",
              "    background-color: var(--disabled-bg-color);\n",
              "    fill: var(--disabled-fill-color);\n",
              "    box-shadow: none;\n",
              "  }\n",
              "\n",
              "  .colab-df-spinner {\n",
              "    border: 2px solid var(--fill-color);\n",
              "    border-color: transparent;\n",
              "    border-bottom-color: var(--fill-color);\n",
              "    animation:\n",
              "      spin 1s steps(1) infinite;\n",
              "  }\n",
              "\n",
              "  @keyframes spin {\n",
              "    0% {\n",
              "      border-color: transparent;\n",
              "      border-bottom-color: var(--fill-color);\n",
              "      border-left-color: var(--fill-color);\n",
              "    }\n",
              "    20% {\n",
              "      border-color: transparent;\n",
              "      border-left-color: var(--fill-color);\n",
              "      border-top-color: var(--fill-color);\n",
              "    }\n",
              "    30% {\n",
              "      border-color: transparent;\n",
              "      border-left-color: var(--fill-color);\n",
              "      border-top-color: var(--fill-color);\n",
              "      border-right-color: var(--fill-color);\n",
              "    }\n",
              "    40% {\n",
              "      border-color: transparent;\n",
              "      border-right-color: var(--fill-color);\n",
              "      border-top-color: var(--fill-color);\n",
              "    }\n",
              "    60% {\n",
              "      border-color: transparent;\n",
              "      border-right-color: var(--fill-color);\n",
              "    }\n",
              "    80% {\n",
              "      border-color: transparent;\n",
              "      border-right-color: var(--fill-color);\n",
              "      border-bottom-color: var(--fill-color);\n",
              "    }\n",
              "    90% {\n",
              "      border-color: transparent;\n",
              "      border-bottom-color: var(--fill-color);\n",
              "    }\n",
              "  }\n",
              "</style>\n",
              "\n",
              "  <script>\n",
              "    async function quickchart(key) {\n",
              "      const quickchartButtonEl =\n",
              "        document.querySelector('#' + key + ' button');\n",
              "      quickchartButtonEl.disabled = true;  // To prevent multiple clicks.\n",
              "      quickchartButtonEl.classList.add('colab-df-spinner');\n",
              "      try {\n",
              "        const charts = await google.colab.kernel.invokeFunction(\n",
              "            'suggestCharts', [key], {});\n",
              "      } catch (error) {\n",
              "        console.error('Error during call to suggestCharts:', error);\n",
              "      }\n",
              "      quickchartButtonEl.classList.remove('colab-df-spinner');\n",
              "      quickchartButtonEl.classList.add('colab-df-quickchart-complete');\n",
              "    }\n",
              "    (() => {\n",
              "      let quickchartButtonEl =\n",
              "        document.querySelector('#df-caf76c93-9147-434e-bc8e-a50846688135 button');\n",
              "      quickchartButtonEl.style.display =\n",
              "        google.colab.kernel.accessAllowed ? 'block' : 'none';\n",
              "    })();\n",
              "  </script>\n",
              "</div>\n",
              "\n",
              "    </div>\n",
              "  </div>\n"
            ],
            "application/vnd.google.colaboratory.intrinsic+json": {
              "type": "dataframe",
              "variable_name": "df",
              "summary": "{\n  \"name\": \"df\",\n  \"rows\": 4009,\n  \"fields\": [\n    {\n      \"column\": \"brand\",\n      \"properties\": {\n        \"dtype\": \"category\",\n        \"num_unique_values\": 57,\n        \"samples\": [\n          \"Ford\",\n          \"Acura\",\n          \"Maserati\"\n        ],\n        \"semantic_type\": \"\",\n        \"description\": \"\"\n      }\n    },\n    {\n      \"column\": \"model\",\n      \"properties\": {\n        \"dtype\": \"category\",\n        \"num_unique_values\": 1898,\n        \"samples\": [\n          \"Expedition King Ranch\",\n          \"Outback 3.0 R VDC Limited\",\n          \"AMG GLC 43 AMG GLC 43\"\n        ],\n        \"semantic_type\": \"\",\n        \"description\": \"\"\n      }\n    },\n    {\n      \"column\": \"model_year\",\n      \"properties\": {\n        \"dtype\": \"number\",\n        \"std\": 6,\n        \"min\": 1974,\n        \"max\": 2024,\n        \"num_unique_values\": 34,\n        \"samples\": [\n          2012,\n          2009,\n          1998\n        ],\n        \"semantic_type\": \"\",\n        \"description\": \"\"\n      }\n    },\n    {\n      \"column\": \"milage\",\n      \"properties\": {\n        \"dtype\": \"string\",\n        \"num_unique_values\": 2818,\n        \"samples\": [\n          \"8,730 mi.\",\n          \"21,404 mi.\",\n          \"53,169 mi.\"\n        ],\n        \"semantic_type\": \"\",\n        \"description\": \"\"\n      }\n    },\n    {\n      \"column\": \"fuel_type\",\n      \"properties\": {\n        \"dtype\": \"category\",\n        \"num_unique_values\": 7,\n        \"samples\": [\n          \"E85 Flex Fuel\",\n          \"Gasoline\",\n          \"\\u2013\"\n        ],\n        \"semantic_type\": \"\",\n        \"description\": \"\"\n      }\n    },\n    {\n      \"column\": \"engine\",\n      \"properties\": {\n        \"dtype\": \"category\",\n        \"num_unique_values\": 1146,\n        \"samples\": [\n          \"2.5L I4 16V PDI DOHC Hybrid\",\n          \"330.0HP 2.0L 4 Cylinder Engine Gasoline Fuel\",\n          \"1.6L I4 16V GDI DOHC Turbo\"\n        ],\n        \"semantic_type\": \"\",\n        \"description\": \"\"\n      }\n    },\n    {\n      \"column\": \"transmission\",\n      \"properties\": {\n        \"dtype\": \"category\",\n        \"num_unique_values\": 62,\n        \"samples\": [\n          \"Automatic, 7-Spd S tronic Dual-Clutch\",\n          \"7-Speed DCT Automatic\",\n          \"6-Speed A/T\"\n        ],\n        \"semantic_type\": \"\",\n        \"description\": \"\"\n      }\n    },\n    {\n      \"column\": \"ext_col\",\n      \"properties\": {\n        \"dtype\": \"category\",\n        \"num_unique_values\": 319,\n        \"samples\": [\n          \"Ibis White\",\n          \"Carbonized Gray Metallic\",\n          \"Beige\"\n        ],\n        \"semantic_type\": \"\",\n        \"description\": \"\"\n      }\n    },\n    {\n      \"column\": \"int_col\",\n      \"properties\": {\n        \"dtype\": \"category\",\n        \"num_unique_values\": 156,\n        \"samples\": [\n          \"Slate\",\n          \"Tan\",\n          \"Almond Beige\"\n        ],\n        \"semantic_type\": \"\",\n        \"description\": \"\"\n      }\n    },\n    {\n      \"column\": \"accident\",\n      \"properties\": {\n        \"dtype\": \"category\",\n        \"num_unique_values\": 2,\n        \"samples\": [\n          \"None reported\",\n          \"At least 1 accident or damage reported\"\n        ],\n        \"semantic_type\": \"\",\n        \"description\": \"\"\n      }\n    },\n    {\n      \"column\": \"clean_title\",\n      \"properties\": {\n        \"dtype\": \"category\",\n        \"num_unique_values\": 1,\n        \"samples\": [\n          \"Yes\"\n        ],\n        \"semantic_type\": \"\",\n        \"description\": \"\"\n      }\n    },\n    {\n      \"column\": \"price\",\n      \"properties\": {\n        \"dtype\": \"category\",\n        \"num_unique_values\": 1569,\n        \"samples\": [\n          \"$44,600\"\n        ],\n        \"semantic_type\": \"\",\n        \"description\": \"\"\n      }\n    }\n  ]\n}"
            }
          },
          "metadata": {},
          "execution_count": 3
        }
      ]
    },
    {
      "cell_type": "code",
      "source": [
        "df.info()"
      ],
      "metadata": {
        "colab": {
          "base_uri": "https://localhost:8080/"
        },
        "id": "NFjKtUMFcouv",
        "outputId": "33ba9512-ade9-43b1-8173-280bdb23da50"
      },
      "execution_count": 4,
      "outputs": [
        {
          "output_type": "stream",
          "name": "stdout",
          "text": [
            "<class 'pandas.core.frame.DataFrame'>\n",
            "RangeIndex: 4009 entries, 0 to 4008\n",
            "Data columns (total 12 columns):\n",
            " #   Column        Non-Null Count  Dtype \n",
            "---  ------        --------------  ----- \n",
            " 0   brand         4009 non-null   object\n",
            " 1   model         4009 non-null   object\n",
            " 2   model_year    4009 non-null   int64 \n",
            " 3   milage        4009 non-null   object\n",
            " 4   fuel_type     3839 non-null   object\n",
            " 5   engine        4009 non-null   object\n",
            " 6   transmission  4009 non-null   object\n",
            " 7   ext_col       4009 non-null   object\n",
            " 8   int_col       4009 non-null   object\n",
            " 9   accident      3896 non-null   object\n",
            " 10  clean_title   3413 non-null   object\n",
            " 11  price         4009 non-null   object\n",
            "dtypes: int64(1), object(11)\n",
            "memory usage: 376.0+ KB\n"
          ]
        }
      ]
    },
    {
      "cell_type": "code",
      "source": [
        "df.loc[0, 'price']"
      ],
      "metadata": {
        "colab": {
          "base_uri": "https://localhost:8080/",
          "height": 36
        },
        "id": "jlFJD5jidVrn",
        "outputId": "c8fee466-6a07-444e-ab45-bd221a4c290f"
      },
      "execution_count": 5,
      "outputs": [
        {
          "output_type": "execute_result",
          "data": {
            "text/plain": [
              "'$10,300'"
            ],
            "application/vnd.google.colaboratory.intrinsic+json": {
              "type": "string"
            }
          },
          "metadata": {},
          "execution_count": 5
        }
      ]
    },
    {
      "cell_type": "code",
      "source": [
        "# Chuyển đổi cột 'price' về int\n",
        "df['price'] = df['price'].str.replace('[\\$,]', '', regex=True).astype(int)"
      ],
      "metadata": {
        "id": "s932zVwkd2Ju"
      },
      "execution_count": 6,
      "outputs": []
    },
    {
      "cell_type": "code",
      "source": [
        "df['price']"
      ],
      "metadata": {
        "colab": {
          "base_uri": "https://localhost:8080/",
          "height": 458
        },
        "id": "fEev_TgkehFX",
        "outputId": "a420a3cb-5be8-4991-bac8-331fcbaa5208"
      },
      "execution_count": 7,
      "outputs": [
        {
          "output_type": "execute_result",
          "data": {
            "text/plain": [
              "0        10300\n",
              "1        38005\n",
              "2        54598\n",
              "3        15500\n",
              "4        34999\n",
              "         ...  \n",
              "4004    349950\n",
              "4005     53900\n",
              "4006     90998\n",
              "4007     62999\n",
              "4008     40000\n",
              "Name: price, Length: 4009, dtype: int64"
            ],
            "text/html": [
              "<div>\n",
              "<style scoped>\n",
              "    .dataframe tbody tr th:only-of-type {\n",
              "        vertical-align: middle;\n",
              "    }\n",
              "\n",
              "    .dataframe tbody tr th {\n",
              "        vertical-align: top;\n",
              "    }\n",
              "\n",
              "    .dataframe thead th {\n",
              "        text-align: right;\n",
              "    }\n",
              "</style>\n",
              "<table border=\"1\" class=\"dataframe\">\n",
              "  <thead>\n",
              "    <tr style=\"text-align: right;\">\n",
              "      <th></th>\n",
              "      <th>price</th>\n",
              "    </tr>\n",
              "  </thead>\n",
              "  <tbody>\n",
              "    <tr>\n",
              "      <th>0</th>\n",
              "      <td>10300</td>\n",
              "    </tr>\n",
              "    <tr>\n",
              "      <th>1</th>\n",
              "      <td>38005</td>\n",
              "    </tr>\n",
              "    <tr>\n",
              "      <th>2</th>\n",
              "      <td>54598</td>\n",
              "    </tr>\n",
              "    <tr>\n",
              "      <th>3</th>\n",
              "      <td>15500</td>\n",
              "    </tr>\n",
              "    <tr>\n",
              "      <th>4</th>\n",
              "      <td>34999</td>\n",
              "    </tr>\n",
              "    <tr>\n",
              "      <th>...</th>\n",
              "      <td>...</td>\n",
              "    </tr>\n",
              "    <tr>\n",
              "      <th>4004</th>\n",
              "      <td>349950</td>\n",
              "    </tr>\n",
              "    <tr>\n",
              "      <th>4005</th>\n",
              "      <td>53900</td>\n",
              "    </tr>\n",
              "    <tr>\n",
              "      <th>4006</th>\n",
              "      <td>90998</td>\n",
              "    </tr>\n",
              "    <tr>\n",
              "      <th>4007</th>\n",
              "      <td>62999</td>\n",
              "    </tr>\n",
              "    <tr>\n",
              "      <th>4008</th>\n",
              "      <td>40000</td>\n",
              "    </tr>\n",
              "  </tbody>\n",
              "</table>\n",
              "<p>4009 rows × 1 columns</p>\n",
              "</div><br><label><b>dtype:</b> int64</label>"
            ]
          },
          "metadata": {},
          "execution_count": 7
        }
      ]
    },
    {
      "cell_type": "code",
      "source": [
        "plt.scatter(df['model_year'], df['price'], label='Price vs Model Year')\n",
        "plt.title('Price vs Model Year')\n",
        "plt.xlabel('Model Year')\n",
        "plt.ylabel('Price')\n",
        "plt.legend()\n",
        "plt.show()"
      ],
      "metadata": {
        "colab": {
          "base_uri": "https://localhost:8080/",
          "height": 472
        },
        "id": "Jx80-RK7fWeX",
        "outputId": "e7bc3183-cbb0-44d6-ff34-1dafad09311c"
      },
      "execution_count": 8,
      "outputs": [
        {
          "output_type": "display_data",
          "data": {
            "text/plain": [
              "<Figure size 640x480 with 1 Axes>"
            ],
            "image/png": "[encoded data removed]"
          },
          "metadata": {}
        }
      ]
    },
    {
      "cell_type": "code",
      "source": [
        "X_train, X_test, y_train, y_test = train_test_split(df[['model_year']], df['price'], test_size=0.2, random_state=42)"
      ],
      "metadata": {
        "id": "uqfovwxriJOY"
      },
      "execution_count": 9,
      "outputs": []
    },
    {
      "cell_type": "code",
      "source": [
        "trainExample = list(zip(X_train['model_year'].values, y_train.values))"
      ],
      "metadata": {
        "id": "es-IeFhqjjtC"
      },
      "execution_count": 10,
      "outputs": []
    },
    {
      "cell_type": "code",
      "source": [
        "# Linear Regression implementation\n",
        "\n",
        "def phi(x):\n",
        "    return np.array([x, 1])  # Feature vector [x, 1]\n",
        "\n",
        "def initialWeightVector():\n",
        "    return np.zeros(2)  # w = [0, 0]\n",
        "\n",
        "def trainloss(w):\n",
        "    return (1.0 / len(trainExample)) * sum((w.dot(phi(x_i)) - y_i)**2 for x_i, y_i in trainExample)\n",
        "\n",
        "def gradientTrainloss(w):\n",
        "    return (1.0 / len(trainExample)) * sum(2 * (w.dot(phi(x_i)) - y_i) * phi(x_i) for x_i, y_i in trainExample)\n",
        "\n",
        "def gradientDescent(L, gradientL, initialWeightVector, eta=0.01, max_iters=1000, step=10,\n",
        "                    patience=20, tol=1e-5):\n",
        "    w = initialWeightVector()\n",
        "    history = []  # Store loss for plotting\n",
        "    best_loss = float('inf')\n",
        "    no_improve_count = 0\n",
        "\n",
        "    for i in range(max_iters):\n",
        "        value = L(w)\n",
        "        gradient = gradientL(w)\n",
        "        w_new = w - eta * gradient\n",
        "        history.append(value)\n",
        "\n",
        "        # Check early stopping condition\n",
        "        if best_loss - value > tol:\n",
        "            best_loss = value\n",
        "            no_improve_count = 0\n",
        "        else:\n",
        "            no_improve_count += 1\n",
        "\n",
        "        if i % step == 0:\n",
        "            grad_norm = np.linalg.norm(gradient)\n",
        "            print(f\"Epoch {i}: Weight Vector = {w}, TrainLoss = {value:.6f}, Gradient Norm = {grad_norm:.6f}\")\n",
        "\n",
        "        if no_improve_count >= patience:\n",
        "            print(f\"\\n⏹ Early stopping tại epoch {i} (TrainLoss không cải thiện trong {patience} lần liên tiếp).\")\n",
        "            break\n",
        "\n",
        "        w = w_new\n",
        "\n",
        "    return w, history\n"
      ],
      "metadata": {
        "id": "w6WyIe8giWan"
      },
      "execution_count": 11,
      "outputs": []
    },
    {
      "cell_type": "code",
      "source": [
        "eta = 0.01\n",
        "w, loss_history = gradientDescent(trainloss, gradientTrainloss, initialWeightVector, eta=eta)"
      ],
      "metadata": {
        "colab": {
          "base_uri": "https://localhost:8080/"
        },
        "id": "KND06CZjjskH",
        "outputId": "d92494b6-e7e5-461d-e013-9a41847f620f"
      },
      "execution_count": 12,
      "outputs": [
        {
          "output_type": "stream",
          "name": "stdout",
          "text": [
            "Epoch 0: Weight Vector = [0. 0.], TrainLoss = 4480915805.871531, Gradient Norm = 174063108.338747\n",
            "Epoch 10: Weight Vector = [-2.68580169e+50 -1.33252323e+47], TrainLoss = 293050536431944253867501032682825056654282275967451174156625005811192628160530380444003833167404040965849088.000000, Gradient Norm = 2182219941127686440662544876378627220124345647752598781952.000000\n",
            "Epoch 20: Weight Vector = [-3.36717531e+99 -1.67057729e+96], TrainLoss = 46060228848182187259650466630974532961438030108031097910164198990545906269317954602972533448726216808217923848493302481306337924191925364621514324661644581155591113616150287099652110226498705402057283600384.000000, Gradient Norm = 27358375458795267646498746449912649419439744613291913623745533431264504107049440802482583993156603534639104.000000\n",
            "\n",
            "⏹ Early stopping tại epoch 20 (TrainLoss không cải thiện trong 20 lần liên tiếp).\n"
          ]
        }
      ]
    },
    {
      "cell_type": "code",
      "source": [
        "# Chuẩn hóa input (model_year)\n",
        "x_mean = X_train['model_year'].mean()\n",
        "x_std = X_train['model_year'].std()\n",
        "X_train_norm = (X_train['model_year'] - x_mean) / x_std\n",
        "X_test_norm = (X_test['model_year'] - x_mean) / x_std\n",
        "\n",
        "# Chuẩn hóa output (price)\n",
        "y_mean = y_train.mean()\n",
        "y_std = y_train.std()\n",
        "y_train_norm = (y_train - y_mean) / y_std"
      ],
      "metadata": {
        "id": "0lyxDiHtlECU"
      },
      "execution_count": 13,
      "outputs": []
    },
    {
      "cell_type": "code",
      "source": [
        "trainExample = list(zip(X_train_norm.values, y_train_norm.values))"
      ],
      "metadata": {
        "id": "ctqcP-v9lVs4"
      },
      "execution_count": 14,
      "outputs": []
    },
    {
      "cell_type": "code",
      "source": [
        "eta = 0.01\n",
        "w, loss_history = gradientDescent(trainloss, gradientTrainloss, initialWeightVector, eta=eta)"
      ],
      "metadata": {
        "colab": {
          "base_uri": "https://localhost:8080/"
        },
        "id": "k14MpOE3lbMj",
        "outputId": "0bfcd0eb-c80d-415a-b7f3-3444fe5cf11e"
      },
      "execution_count": 15,
      "outputs": [
        {
          "output_type": "stream",
          "name": "stdout",
          "text": [
            "Epoch 0: Weight Vector = [0. 0.], TrainLoss = 0.999688, Gradient Norm = 0.706304\n",
            "Epoch 10: Weight Vector = [ 6.46029067e-02 -6.79603967e-17], TrainLoss = 0.958231, Gradient Norm = 0.577139\n",
            "Epoch 20: Weight Vector = [ 1.17391544e-01 -2.66103184e-16], TrainLoss = 0.930551, Gradient Norm = 0.471594\n",
            "Epoch 30: Weight Vector = [ 1.60526449e-01 -5.44909023e-16], TrainLoss = 0.912068, Gradient Norm = 0.385351\n",
            "Epoch 40: Weight Vector = [ 1.95773050e-01 -8.65671045e-16], TrainLoss = 0.899728, Gradient Norm = 0.314880\n",
            "Epoch 50: Weight Vector = [ 2.24573922e-01 -1.20533732e-15], TrainLoss = 0.891488, Gradient Norm = 0.257296\n",
            "Epoch 60: Weight Vector = [ 2.48107829e-01 -1.54720431e-15], TrainLoss = 0.885987, Gradient Norm = 0.210243\n",
            "Epoch 70: Weight Vector = [ 2.67337967e-01 -1.87816225e-15], TrainLoss = 0.882314, Gradient Norm = 0.171795\n",
            "Epoch 80: Weight Vector = [ 2.83051391e-01 -2.18944981e-15], TrainLoss = 0.879861, Gradient Norm = 0.140378\n",
            "Epoch 90: Weight Vector = [ 2.95891219e-01 -2.47828989e-15], TrainLoss = 0.878223, Gradient Norm = 0.114706\n",
            "Epoch 100: Weight Vector = [ 3.06382961e-01 -2.74366435e-15], TrainLoss = 0.877130, Gradient Norm = 0.093729\n",
            "Epoch 110: Weight Vector = [ 3.14956024e-01 -2.98313430e-15], TrainLoss = 0.876400, Gradient Norm = 0.076589\n",
            "Epoch 120: Weight Vector = [ 3.21961286e-01 -3.19776634e-15], TrainLoss = 0.875912, Gradient Norm = 0.062582\n",
            "Epoch 130: Weight Vector = [ 3.27685459e-01 -3.38879186e-15], TrainLoss = 0.875587, Gradient Norm = 0.051138\n",
            "Epoch 140: Weight Vector = [ 3.32362823e-01 -3.55820906e-15], TrainLoss = 0.875370, Gradient Norm = 0.041786\n",
            "Epoch 150: Weight Vector = [ 3.36184814e-01 -3.70540794e-15], TrainLoss = 0.875224, Gradient Norm = 0.034144\n",
            "Epoch 160: Weight Vector = [ 3.39307857e-01 -3.83487304e-15], TrainLoss = 0.875128, Gradient Norm = 0.027900\n",
            "Epoch 170: Weight Vector = [ 3.41859772e-01 -3.94732925e-15], TrainLoss = 0.875063, Gradient Norm = 0.022798\n",
            "Epoch 180: Weight Vector = [ 3.43945006e-01 -4.04414056e-15], TrainLoss = 0.875020, Gradient Norm = 0.018629\n",
            "Epoch 190: Weight Vector = [ 3.45648902e-01 -4.12832572e-15], TrainLoss = 0.874991, Gradient Norm = 0.015222\n",
            "Epoch 200: Weight Vector = [ 3.47041198e-01 -4.19945269e-15], TrainLoss = 0.874972, Gradient Norm = 0.012438\n",
            "Epoch 210: Weight Vector = [ 3.48178878e-01 -4.26135862e-15], TrainLoss = 0.874959, Gradient Norm = 0.010164\n",
            "Epoch 220: Weight Vector = [ 3.49108504e-01 -4.31468809e-15], TrainLoss = 0.874950, Gradient Norm = 0.008305\n",
            "Epoch 230: Weight Vector = [ 3.49868125e-01 -4.35997425e-15], TrainLoss = 0.874944, Gradient Norm = 0.006786\n",
            "\n",
            "⏹ Early stopping tại epoch 239 (TrainLoss không cải thiện trong 20 lần liên tiếp).\n"
          ]
        }
      ]
    },
    {
      "cell_type": "code",
      "source": [
        "plt.plot(loss_history)\n",
        "plt.xlabel('Epoch')\n",
        "plt.ylabel('Train Loss')\n",
        "plt.title('Loss theo Epoch')\n",
        "plt.grid(True)\n",
        "plt.show()"
      ],
      "metadata": {
        "colab": {
          "base_uri": "https://localhost:8080/",
          "height": 472
        },
        "id": "yfGbas64m28A",
        "outputId": "22ed9fb8-1457-4364-efe0-d6c9f9cce6a1"
      },
      "execution_count": 16,
      "outputs": [
        {
          "output_type": "display_data",
          "data": {
            "text/plain": [
              "<Figure size 640x480 with 1 Axes>"
            ],
            "image/png": "[encoded data removed]"
          },
          "metadata": {}
        }
      ]
    },
    {
      "cell_type": "code",
      "source": [
        "def predict(model_year):\n",
        "    x_norm = (model_year - x_mean) / x_std  # chuẩn hóa input\n",
        "    y_pred_norm = w.dot(phi(x_norm))        # dự đoán trên input chuẩn hóa\n",
        "    y_pred = y_pred_norm * y_std + y_mean   # scale ngược lại về đơn vị gốc\n",
        "    return y_pred"
      ],
      "metadata": {
        "id": "d-g4U7KBovzS"
      },
      "execution_count": 17,
      "outputs": []
    },
    {
      "cell_type": "code",
      "source": [
        "model_years = [2005, 2010, 2015, 2020, 2025]\n",
        "for year in model_years:\n",
        "    predicted_price = predict(year)\n",
        "    print(f\"Năm {year} → Dự đoán giá: ${predicted_price:.2f}\")"
      ],
      "metadata": {
        "colab": {
          "base_uri": "https://localhost:8080/"
        },
        "id": "a4k-j55HoxBQ",
        "outputId": "cc544866-f8d9-4c35-f2b2-05e5a64626df"
      },
      "execution_count": 18,
      "outputs": [
        {
          "output_type": "stream",
          "name": "stdout",
          "text": [
            "Năm 2005 → Dự đoán giá: $11721.56\n",
            "Năm 2010 → Dự đoán giá: $26594.01\n",
            "Năm 2015 → Dự đoán giá: $41466.46\n",
            "Năm 2020 → Dự đoán giá: $56338.91\n",
            "Năm 2025 → Dự đoán giá: $71211.37\n"
          ]
        }
      ]
    },
    {
      "cell_type": "code",
      "source": [
        "# Trích xuất trọng số từ w\n",
        "w0, w1 = w[1], w[0] # Trong đó w0 là hệ số của model_year đã normalize, w1 là bias\n",
        "\n",
        "# In ra trọng số đã học được\n",
        "print(\"Trọng số đã học được (weights): w0 =\", w0, \", w1 =\", w1)"
      ],
      "metadata": {
        "colab": {
          "base_uri": "https://localhost:8080/"
        },
        "id": "zwAJ326-of5o",
        "outputId": "f9afcc5e-5b91-4835-bcf3-74b3d4490522"
      },
      "execution_count": 19,
      "outputs": [
        {
          "output_type": "stream",
          "name": "stdout",
          "text": [
            "Trọng số đã học được (weights): w0 = -4.395758261078592e-15 , w1 = 0.3504322466179235\n"
          ]
        }
      ]
    },
    {
      "cell_type": "code",
      "source": [
        "# Dự đoán giá trị price cho tất cả các model_year trong tập test\n",
        "y_pred_test = np.array([predict(x) for x in X_test['model_year']])"
      ],
      "metadata": {
        "id": "P19mgAkgphUJ"
      },
      "execution_count": 20,
      "outputs": []
    },
    {
      "cell_type": "code",
      "source": [
        "# Vẽ biểu đồ phân tán của model_year và price trong tập test\n",
        "plt.scatter(X_test['model_year'], y_test, color='blue', label='True values')\n",
        "\n",
        "# Sắp xếp lại model_year để vẽ đường hồi quy tuyến tính mượt mà\n",
        "sorted_indices = np.argsort(X_test['model_year'])  # Lấy chỉ số của các giá trị model_year theo thứ tự tăng dần\n",
        "sorted_model_year = X_test['model_year'].iloc[sorted_indices]\n",
        "sorted_y_pred_test = y_pred_test[sorted_indices]\n",
        "\n",
        "# Vẽ đường hồi quy tuyến tính\n",
        "plt.plot(sorted_model_year, sorted_y_pred_test, color='red', label='Car price prediction')\n",
        "\n",
        "# Thêm tiêu đề và nhãn cho các trục\n",
        "plt.title('Car Price Prediction')\n",
        "plt.xlabel('Model Year')\n",
        "plt.ylabel('Price')\n",
        "plt.legend()\n",
        "\n",
        "# Hiển thị biểu đồ\n",
        "plt.show()"
      ],
      "metadata": {
        "colab": {
          "base_uri": "https://localhost:8080/",
          "height": 472
        },
        "id": "j4HKLJJmpiRo",
        "outputId": "274fe466-612a-48b9-cf6a-ee2a50081b79"
      },
      "execution_count": 21,
      "outputs": [
        {
          "output_type": "display_data",
          "data": {
            "text/plain": [
              "<Figure size 640x480 with 1 Axes>"
            ],
            "image/png": "[encoded data removed]"
          },
          "metadata": {}
        }
      ]
    }
  ]
}