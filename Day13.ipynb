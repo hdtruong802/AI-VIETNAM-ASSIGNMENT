{
 "cells": [
  {
   "cell_type": "code",
   "execution_count": 1,
   "id": "f8c08643",
   "metadata": {},
   "outputs": [],
   "source": [
    "import numpy as np"
   ]
  },
  {
   "cell_type": "markdown",
   "id": "c329216a",
   "metadata": {},
   "source": [
    "# Bài 1: Làm quen với cú pháp"
   ]
  },
  {
   "cell_type": "code",
   "execution_count": 2,
   "id": "574abe52",
   "metadata": {},
   "outputs": [],
   "source": [
    "# ndarray: Mảng N chiều, kiểu dữ liệu đồng nhất\n",
    "arr = np.array([1, 2, 3, 4])\n",
    "matrix = np.array([[1, 2], [3, 4], [5, 6]])"
   ]
  },
  {
   "cell_type": "code",
   "execution_count": 3,
   "id": "d2d5e9d6",
   "metadata": {},
   "outputs": [
    {
     "data": {
      "text/plain": [
       "array([1, 2, 3, 4])"
      ]
     },
     "execution_count": 3,
     "metadata": {},
     "output_type": "execute_result"
    }
   ],
   "source": [
    "arr"
   ]
  },
  {
   "cell_type": "code",
   "execution_count": 4,
   "id": "2e68bd2a",
   "metadata": {},
   "outputs": [
    {
     "data": {
      "text/plain": [
       "array([[1, 2],\n",
       "       [3, 4],\n",
       "       [5, 6]])"
      ]
     },
     "execution_count": 4,
     "metadata": {},
     "output_type": "execute_result"
    }
   ],
   "source": [
    "matrix"
   ]
  },
  {
   "cell_type": "code",
   "execution_count": 5,
   "id": "7b7e4b30",
   "metadata": {},
   "outputs": [
    {
     "name": "stdout",
     "output_type": "stream",
     "text": [
      "(4,)\n",
      "(3, 2)\n"
     ]
    }
   ],
   "source": [
    "# Shape: Kích thước các chiều của mảng (ví dụ: (3,4))\n",
    "print(arr.shape)\n",
    "print(matrix.shape)"
   ]
  },
  {
   "cell_type": "code",
   "execution_count": 6,
   "id": "3633798b",
   "metadata": {},
   "outputs": [
    {
     "name": "stdout",
     "output_type": "stream",
     "text": [
      "int32\n",
      "float32\n"
     ]
    }
   ],
   "source": [
    "# Dtype: Kiểu dữ liệu của phần tử (float32, int64,...)\n",
    "print(arr.dtype)\n",
    "float_arr = np.array([1.0, 2.0], dtype = np.float32)\n",
    "print(float_arr.dtype)"
   ]
  },
  {
   "cell_type": "code",
   "execution_count": 7,
   "id": "809647ab",
   "metadata": {},
   "outputs": [
    {
     "data": {
      "text/plain": [
       "array([[0., 0., 0., 0.],\n",
       "       [0., 0., 0., 0.],\n",
       "       [0., 0., 0., 0.]])"
      ]
     },
     "execution_count": 7,
     "metadata": {},
     "output_type": "execute_result"
    }
   ],
   "source": [
    "# Tạo mảng: np.array(), np.zeros(), np.ones(), np.arange(), np.linspace()\n",
    "zeros = np.zeros((3, 4)) # Mảng 3x4 toàn 0\n",
    "zeros"
   ]
  },
  {
   "cell_type": "code",
   "execution_count": 8,
   "id": "ebfbfe74",
   "metadata": {},
   "outputs": [
    {
     "data": {
      "text/plain": [
       "array([1., 1., 1., 1.])"
      ]
     },
     "execution_count": 8,
     "metadata": {},
     "output_type": "execute_result"
    }
   ],
   "source": [
    "ones = np.ones((4,)) # Mảng 4 phần tử toàn 1\n",
    "ones"
   ]
  },
  {
   "cell_type": "code",
   "execution_count": 9,
   "id": "f9df266d",
   "metadata": {},
   "outputs": [
    {
     "data": {
      "text/plain": [
       "array([0, 3, 6, 9])"
      ]
     },
     "execution_count": 9,
     "metadata": {},
     "output_type": "execute_result"
    }
   ],
   "source": [
    "range_arr = np.arange(0, 10, 3) # [0, 3, 6, 9] (start, stop, step)\n",
    "range_arr"
   ]
  },
  {
   "cell_type": "code",
   "execution_count": 10,
   "id": "b7441dd0",
   "metadata": {},
   "outputs": [
    {
     "data": {
      "text/plain": [
       "array([0. , 0.4, 0.8, 1.2, 1.6, 2. ])"
      ]
     },
     "execution_count": 10,
     "metadata": {},
     "output_type": "execute_result"
    }
   ],
   "source": [
    "lin_arr = np.linspace(0, 2, 6) # (start, stop, num)\n",
    "lin_arr"
   ]
  },
  {
   "cell_type": "code",
   "execution_count": 11,
   "id": "5f2fd51b",
   "metadata": {},
   "outputs": [
    {
     "name": "stdout",
     "output_type": "stream",
     "text": [
      "2\n",
      "[2 3 4]\n",
      "[1 2 8 4 5]\n",
      "4\n"
     ]
    }
   ],
   "source": [
    "# Truy cập và thay đổi phần tử: Slicing, Indexing\n",
    "arr = np.array([1, 2, 3, 4, 5])\n",
    "print(arr[1])      # Truy cập phần tử\n",
    "print(arr[1:4])    # slicing\n",
    "arr[2] = 8         # Thay đổi phần tử\n",
    "print(arr)\n",
    "\n",
    "matrix = np.array([[30, 4], [19, 75]])\n",
    "print(matrix[0, 1]) # Truy cập phần tử 2D"
   ]
  },
  {
   "cell_type": "code",
   "execution_count": 12,
   "id": "b9db9b60",
   "metadata": {},
   "outputs": [
    {
     "name": "stdout",
     "output_type": "stream",
     "text": [
      "Cộng từng phần tử: [10  5  5]\n",
      "Nhân từng phần tử: [21  0  4]\n",
      "Tích vô hướng: 25\n",
      "[[41 31]\n",
      " [74 55]]\n"
     ]
    }
   ],
   "source": [
    "# Các phép toán trên mảng: Cộng, trừ, nhân, chia, ma trận\n",
    "a = np.array([3, 0, 4])\n",
    "b = np.array([7, 5, 1])\n",
    "\n",
    "print(f\"Cộng từng phần tử: {a + b}\") \n",
    "print(f\"Nhân từng phần tử: {a * b}\") \n",
    "print(f\"Tích vô hướng: {a @ b}\") \n",
    "\n",
    "# Phép nhân ma trận\n",
    "mat1 = np.array([[3, 4], [7, 5]])\n",
    "mat2 = np.array([[7, 5], [5, 4]])\n",
    "print(np.dot(mat1, mat2))"
   ]
  },
  {
   "cell_type": "code",
   "execution_count": 13,
   "id": "2cb5b328",
   "metadata": {},
   "outputs": [
    {
     "name": "stdout",
     "output_type": "stream",
     "text": [
      "trung bình: 4.142857142857143\n",
      "tổng: 29\n",
      "giá trị lớn nhất: 9\n",
      "độ lệch chuẩn: 2.9485382057928993\n"
     ]
    }
   ],
   "source": [
    "# Hàm thống kê: mean(), sum(), min(), max(), std()\n",
    "data = np.array([3, 0, 4, 1, 9, 7, 5])\n",
    "print(f\"trung bình: {np.mean(data)}\")\n",
    "print(f\"tổng: {np.sum(data)}\")\n",
    "print(f\"giá trị lớn nhất: {np.max(data)}\")\n",
    "print(f\"độ lệch chuẩn: {np.std(data)}\")"
   ]
  },
  {
   "cell_type": "code",
   "execution_count": 14,
   "id": "e0e7d91a",
   "metadata": {},
   "outputs": [
    {
     "name": "stdout",
     "output_type": "stream",
     "text": [
      "arange: [0 1 2 3 4 5 6 7]\n",
      "reshape: [[0 1 2 3]\n",
      " [4 5 6 7]]\n",
      "flatten: [0 1 2 3 4 5 6 7]\n",
      "transposed: [[0 4]\n",
      " [1 5]\n",
      " [2 6]\n",
      " [3 7]]\n"
     ]
    }
   ],
   "source": [
    "# Thao tác với hình dạng mảng: reshape(), flatten(), transpose()\n",
    "arr = np.arange(8)\n",
    "print(f\"arange: {arr}\")\n",
    "matrix = arr.reshape(2, 4)\n",
    "print(f\"reshape: {matrix}\")\n",
    "flat = matrix.flatten()\n",
    "print(f\"flatten: {flat}\")\n",
    "transposed = matrix.T\n",
    "print(f\"transposed: {transposed}\")"
   ]
  },
  {
   "cell_type": "markdown",
   "id": "9c90ff85",
   "metadata": {},
   "source": [
    "# Bài 2: Sử dụng np.where()"
   ]
  },
  {
   "cell_type": "code",
   "execution_count": 15,
   "id": "4036dd9a",
   "metadata": {},
   "outputs": [
    {
     "name": "stdout",
     "output_type": "stream",
     "text": [
      "[1 0 3 0 5 0]\n"
     ]
    }
   ],
   "source": [
    "# Thay các số âm bằng 0\n",
    "arr = np.array([1, -2, 3, -4, 5, -6])\n",
    "print(np.where(arr < 0, 0, arr))"
   ]
  },
  {
   "cell_type": "code",
   "execution_count": 16,
   "id": "9ae9b776",
   "metadata": {},
   "outputs": [
    {
     "name": "stdout",
     "output_type": "stream",
     "text": [
      "['odd' 'even' 'odd' 'even' 'odd' 'even']\n"
     ]
    }
   ],
   "source": [
    "# Thay số chẵn bằng \"even\", số lẻ bằng \"odd\"\n",
    "# np.where(condition, value_if_true, value_if_false)\n",
    "print(np.where(arr % 2 == 0, \"even\", \"odd\"))"
   ]
  },
  {
   "cell_type": "code",
   "execution_count": 17,
   "id": "0c88c5f0",
   "metadata": {},
   "outputs": [
    {
     "name": "stdout",
     "output_type": "stream",
     "text": [
      "[2 4]\n"
     ]
    }
   ],
   "source": [
    "# Tìm vị trí các phần tử > 2\n",
    "print(np.where(arr > 2)[0])"
   ]
  },
  {
   "cell_type": "markdown",
   "id": "57857ece",
   "metadata": {},
   "source": [
    "# Bài 3: Kết hợp nhiều điều kiện"
   ]
  },
  {
   "cell_type": "code",
   "execution_count": 18,
   "id": "7b9ff9a1",
   "metadata": {},
   "outputs": [
    {
     "name": "stdout",
     "output_type": "stream",
     "text": [
      "['Mid' 'Mid' 'Hot' 'Mid' 'Hot' 'Cold' 'Mid']\n"
     ]
    }
   ],
   "source": [
    "temps = np.array([25, 28, 30, 22, 35, 18, 20])\n",
    "\n",
    "conditions = [\n",
    "    temps < 20,\n",
    "    (temps >= 20) & (temps <= 29),\n",
    "    temps >= 30\n",
    "]\n",
    "\n",
    "weather = [\"Cold\", \"Mid\", \"Hot\"] \n",
    "\n",
    "print(np.select(conditions, weather, default=0))"
   ]
  },
  {
   "cell_type": "markdown",
   "id": "6202b59d",
   "metadata": {},
   "source": [
    "# Bài 4: Áp dụng hàm theo trục"
   ]
  },
  {
   "cell_type": "code",
   "execution_count": 19,
   "id": "fb34360d",
   "metadata": {},
   "outputs": [
    {
     "data": {
      "text/plain": [
       "array([[10, 79, 27, 47, 63],\n",
       "       [97, 27, 72, 86, 25],\n",
       "       [21, 43,  5, 82, 27],\n",
       "       [77, 16, 69, 83, 25],\n",
       "       [98, 73,  4, 81, 98]])"
      ]
     },
     "execution_count": 19,
     "metadata": {},
     "output_type": "execute_result"
    }
   ],
   "source": [
    "mat = np.random.randint(1, 100, (5, 5))\n",
    "mat"
   ]
  },
  {
   "cell_type": "code",
   "execution_count": 20,
   "id": "6514bd43",
   "metadata": {},
   "outputs": [
    {
     "name": "stdout",
     "output_type": "stream",
     "text": [
      "[[0.         1.         0.24637681 0.53623188 0.76811594]\n",
      " [1.         0.02777778 0.65277778 0.84722222 0.        ]\n",
      " [0.20779221 0.49350649 0.         1.         0.28571429]\n",
      " [0.91044776 0.         0.79104478 1.         0.13432836]\n",
      " [1.         0.73404255 0.         0.81914894 1.        ]]\n"
     ]
    }
   ],
   "source": [
    "# Chuẩn hóa từng hàng (trừ đi min, chia cho max - min)\n",
    "def normalize_rows(mat):\n",
    "    row_min = mat.min(axis=1, keepdims=True)\n",
    "    row_max = mat.max(axis=1, keepdims=True)\n",
    "    return np.where(row_max - row_min == 0, 0, (mat - row_min) / (row_max - row_min))\n",
    "\n",
    "print(normalize_rows(mat))"
   ]
  },
  {
   "cell_type": "code",
   "execution_count": 21,
   "id": "7a3d1f84",
   "metadata": {},
   "outputs": [
    {
     "name": "stdout",
     "output_type": "stream",
     "text": [
      "[[4.42626865e-39 9.97527377e-01 2.72676114e-20 1.07441267e-17\n",
      "  6.30511676e-16]\n",
      " [2.68941421e-01 2.60382483e-23 9.52574127e-01 9.30370466e-01\n",
      "  1.97925988e-32]\n",
      " [2.65019037e-34 2.31378752e-16 7.60621319e-30 1.70403295e-02\n",
      "  1.46248623e-31]\n",
      " [5.54329585e-10 4.34883033e-28 4.74258732e-02 4.63204180e-02\n",
      "  1.97925988e-32]\n",
      " [7.31058578e-01 2.47262316e-03 2.79816946e-30 6.26878689e-03\n",
      "  1.00000000e+00]]\n"
     ]
    }
   ],
   "source": [
    "# Áp dụng hàm softmax theo cột\n",
    "def normalize_cols(mat):\n",
    "    exp_x = np.exp(mat - np.max(mat, axis=0, keepdims=True)) # Tránh tràn số\n",
    "    return exp_x / np.sum(exp_x, axis=0, keepdims=True) # Hàm softmax\n",
    "\n",
    "print(normalize_cols(mat))"
   ]
  },
  {
   "cell_type": "markdown",
   "id": "c6aed208",
   "metadata": {},
   "source": [
    "# Bài 5: Xử lý dữ liệu phức tạp"
   ]
  },
  {
   "cell_type": "code",
   "execution_count": 22,
   "id": "497cb9a7",
   "metadata": {},
   "outputs": [
    {
     "data": {
      "text/plain": [
       "array([[ 1.,  2., nan],\n",
       "       [ 4., nan,  6.],\n",
       "       [ 7.,  8.,  9.]])"
      ]
     },
     "execution_count": 22,
     "metadata": {},
     "output_type": "execute_result"
    }
   ],
   "source": [
    "data = np.array([\n",
    "    [1, 2, np.nan],\n",
    "    [4, np.nan, 6],\n",
    "    [7, 8, 9]\n",
    "])\n",
    "\n",
    "data"
   ]
  },
  {
   "cell_type": "code",
   "execution_count": 23,
   "id": "4d9f77d9",
   "metadata": {},
   "outputs": [
    {
     "data": {
      "text/plain": [
       "array([[1.        , 2.        , 5.28571429],\n",
       "       [4.        , 5.28571429, 6.        ],\n",
       "       [7.        , 8.        , 9.        ]])"
      ]
     },
     "execution_count": 23,
     "metadata": {},
     "output_type": "execute_result"
    }
   ],
   "source": [
    "# Thay các giá trị NaN bằng trung bình cột\n",
    "data = np.where(np.isnan(data), np.nanmean(data), data)\n",
    "data"
   ]
  },
  {
   "cell_type": "code",
   "execution_count": 24,
   "id": "0980514c",
   "metadata": {},
   "outputs": [
    {
     "data": {
      "text/plain": [
       "array([[-1.22474487, -1.26171974, -0.91733643],\n",
       "       [ 0.        ,  0.07764429, -0.47346396],\n",
       "       [ 1.22474487,  1.18407545,  1.3908004 ]])"
      ]
     },
     "execution_count": 24,
     "metadata": {},
     "output_type": "execute_result"
    }
   ],
   "source": [
    "# Tính z-score cho mỗi cột (z-score = (mattrix - mean) / std)\n",
    "def z_score(mat):\n",
    "    mean = np.mean(mat, axis=0, keepdims=True)\n",
    "    std = np.std(mat, axis=0, keepdims=True)\n",
    "    return (mat - mean) / std\n",
    "\n",
    "z_score(data)"
   ]
  },
  {
   "cell_type": "code",
   "execution_count": 25,
   "id": "efb8e13d",
   "metadata": {},
   "outputs": [
    {
     "data": {
      "text/plain": [
       "array([[0.        , 0.23333333, 1.        ],\n",
       "       [0.        , 0.64285714, 1.        ],\n",
       "       [0.        , 0.5       , 1.        ]])"
      ]
     },
     "execution_count": 25,
     "metadata": {},
     "output_type": "execute_result"
    }
   ],
   "source": [
    "# Chuẩn hóa min-max theo cột\n",
    "normalize_rows(data)"
   ]
  }
 ],
 "metadata": {
  "kernelspec": {
   "display_name": "Python 3 (ipykernel)",
   "language": "python",
   "name": "python3"
  },
  "language_info": {
   "codemirror_mode": {
    "name": "ipython",
    "version": 3
   },
   "file_extension": ".py",
   "mimetype": "text/x-python",
   "name": "python",
   "nbconvert_exporter": "python",
   "pygments_lexer": "ipython3",
   "version": "3.11.5"
  }
 },
 "nbformat": 4,
 "nbformat_minor": 5
}
